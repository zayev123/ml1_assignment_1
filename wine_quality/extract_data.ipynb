{
 "cells": [
  {
   "cell_type": "code",
   "execution_count": null,
   "metadata": {},
   "outputs": [],
   "source": [
    "import numpy as np\n",
    "import matplotlib.pyplot as plt\n",
    "import pandas as pd\n",
    "import sklearn\n",
    "from sklearn.model_selection import train_test_split\n",
    "from sklearn.preprocessing import StandardScaler\n",
    "from sklearn.neighbors import KNeighborsClassifier\n",
    "from sklearn.metrics import confusion_matrix,accuracy_score\n",
    "import seaborn as sns\n",
    "from sklearn import preprocessing"
   ]
  },
  {
   "cell_type": "code",
   "execution_count": null,
   "metadata": {},
   "outputs": [],
   "source": [
    "class DataAnalyzer:\n",
    "    def __init__(self):\n",
    "        base_folder = 'wine+quality'\n",
    "        whitewine_data = pd.read_csv(f'{base_folder}/winequality-white.csv', sep=';') \n",
    "        redwine_data = pd.read_csv(f'{base_folder}/winequality-red.csv', sep=';') \n",
    "        self.description_file = f'{base_folder}/winequality.names'\n",
    "        self.dataset = whitewine_data\n",
    "\n",
    "        self.results = {}\n",
    "\n",
    "    def read_file(self):\n",
    "        file_path = self.description_file\n",
    "\n",
    "        # Open the file\n",
    "        with open(file_path, 'r') as file:\n",
    "            # Read lines\n",
    "            lines = file.readlines()\n",
    "\n",
    "        # Displaying the content\n",
    "        for line in lines:\n",
    "            print(line.strip())  \n",
    "    \n",
    "    def show_boxplots(self):\n",
    "        fig, axs = plt.subplots(ncols=7, nrows=2, figsize=(20, 10))\n",
    "        index = 0\n",
    "        axs = axs.flatten()\n",
    "        for k,v in self.dataset.items():\n",
    "            sns.boxplot(y=k, data=self.dataset, ax=axs[index])\n",
    "            index += 1\n",
    "        plt.tight_layout(pad=0.4, w_pad=0.5, h_pad=5.0)\n",
    "\n",
    "    def show_outlier_percs(self):\n",
    "        for k, v in self.dataset.items():\n",
    "            q1 = v.quantile(0.25)\n",
    "            q3 = v.quantile(0.75)\n",
    "            irq = q3 - q1\n",
    "            v_col = v[(v <= q1 - 1.5 * irq) | (v >= q3 + 1.5 * irq)]\n",
    "            perc = np.shape(v_col)[0] * 100.0 / np.shape(self.dataset)[0]\n",
    "            print(\"Column %s outliers = %.2f%%\" % (k, perc))\n",
    "\n",
    "    def remove_outliers(self):\n",
    "        self.dataset = self.dataset[~((self.dataset['quality'] > 7.0) | (self.dataset['quality'] < 4.0))]\n",
    "        self.dataset = self.dataset[~((self.dataset['density'] > 1.01) | (self.dataset['density'] < 0.98))]\n",
    "        self.dataset = self.dataset[~((self.dataset['pH'] > 3.59) | (self.dataset['pH'] < 2.78))]\n",
    "        self.dataset = self.dataset[~((self.dataset['chlorides'] > 0.08))]\n",
    "        self.dataset = self.dataset[~((self.dataset['volatile acidity'] > 0.5))]\n",
    "        self.dataset = self.dataset[~((self.dataset['total sulfur dioxide'] > 260.0))]\n",
    "        self.dataset = self.dataset[~((self.dataset['residual sugar'] > 21.0))]\n",
    "        self.dataset = self.dataset[~((self.dataset['fixed acidity'] > 9.1))]\n",
    "        self.dataset = self.dataset[~((self.dataset['citric acid'] > 0.65))]\n",
    "        return self.dataset\n",
    "\n",
    "    def get_x_and_Y(self):\n",
    "        self.X = self.dataset.iloc[:, list(range(11))].values\n",
    "        self.y = self.dataset.iloc[:, -1].values\n",
    "        return (self.X, self.y)\n",
    "\n",
    "    def get_train_test_split(self):\n",
    "        self.X_train, self.X_test, self.y_train, self.y_test = train_test_split(self.X, self.y, test_size = 0.20, random_state = 0)\n",
    "        return (self.X_train, self.X_test, self.y_train, self.y_test)\n",
    "\n",
    "    def normalize_df_by_max(self):\n",
    "        normalized_df = self.dataset.copy()\n",
    "        for column in self.dataset.columns[:-1]:  # Exclude the last column\n",
    "            max_abs_value = abs(self.dataset[column]).max()\n",
    "            normalized_df[column] = self.dataset[column] / max_abs_value\n",
    "\n",
    "        self.dataset = normalized_df\n",
    "        return(self.dataset)\n",
    "\n",
    "    def normalize_df_by_mean(self):\n",
    "        sc = StandardScaler()\n",
    "        self.X_train = sc.fit_transform(self.X_train)\n",
    "        self.X_test = sc.transform(self.X_test)\n",
    "        return(self.X_train, self.X_test)\n",
    "    \n",
    "    def show_histplots(self):\n",
    "        fig, axs = plt.subplots(ncols=7, nrows=2, figsize=(20, 10))\n",
    "        index = 0\n",
    "        axs = axs.flatten()\n",
    "        for k,v in self.dataset.items():\n",
    "            sns.histplot(v, ax=axs[index])\n",
    "            index += 1\n",
    "        plt.tight_layout(pad=0.4, w_pad=0.5, h_pad=5.0)\n",
    "\n",
    "    def show_heat_map(self):\n",
    "        plt.figure(figsize=(20, 10))\n",
    "        sns.heatmap(self.dataset.corr().abs(),  annot=True)\n",
    "\n",
    "    def plot_variations(self):\n",
    "        # Let's scale the columns before plotting them against MEDV\n",
    "        min_max_scaler = preprocessing.MinMaxScaler()\n",
    "        # column_sels = ['alcohol', 'density', 'volatile acidity', 'total sulfur dioxide', 'fixed acidity', 'chlorides', 'residual sugar', 'pH']\n",
    "        column_sels = self.dataset.columns\n",
    "        x = self.dataset.loc[:,column_sels]\n",
    "        y = self.dataset['quality']\n",
    "        x = pd.DataFrame(data=min_max_scaler.fit_transform(x), columns=column_sels)\n",
    "        fig, axs = plt.subplots(ncols=4, nrows=3, figsize=(20, 10))\n",
    "        index = 0\n",
    "        axs = axs.flatten()\n",
    "        for i, k in enumerate(column_sels):\n",
    "            sns.regplot(y=y, x=x[k], ax=axs[i])\n",
    "        plt.tight_layout(pad=0.4, w_pad=0.5, h_pad=5.0)\n",
    "\n",
    "    def perform_knn(self):\n",
    "        classifier = KNeighborsClassifier(n_neighbors = 40, metric = 'minkowski', p = 2.7)\n",
    "        classifier.fit(self.X_train, self.y_train)\n",
    "        y_pred = classifier.predict(self.X_test)\n",
    "        self.cm = confusion_matrix(self.y_test, y_pred)\n",
    "        self.ac = accuracy_score(self.y_test,y_pred)\n",
    "        return self.ac\n",
    "\n",
    "class Master:\n",
    "    def __init__(self):\n",
    "        self.results = {}\n",
    "\n",
    "    def run_raw(self):\n",
    "        anlyzr = DataAnalyzer()\n",
    "        anlyzr.get_x_and_Y()\n",
    "        anlyzr.get_train_test_split()\n",
    "        self.results[\"raw_run\"] = anlyzr.perform_knn()\n",
    "\n",
    "    def run_after_removing_outliers(self):\n",
    "        anlyzr = DataAnalyzer()\n",
    "        anlyzr.remove_outliers()\n",
    "        anlyzr.get_x_and_Y()\n",
    "        anlyzr.get_train_test_split()\n",
    "        self.results[\"after_removing_outliers_run\"] = anlyzr.perform_knn()\n",
    "\n",
    "    def run_after_max_normalisation(self):\n",
    "        anlyzr = DataAnalyzer()\n",
    "        anlyzr.remove_outliers()\n",
    "        anlyzr.normalize_df_by_max()\n",
    "        anlyzr.get_x_and_Y()\n",
    "        anlyzr.get_train_test_split()\n",
    "        self.results[\"after_max_normalisation_run\"] = anlyzr.perform_knn()\n",
    "\n",
    "    def run_after_mean_normalisation(self):\n",
    "        anlyzr = DataAnalyzer()\n",
    "        anlyzr.remove_outliers()\n",
    "        anlyzr.get_x_and_Y()\n",
    "        anlyzr.get_train_test_split()\n",
    "        anlyzr.normalize_df_by_mean()\n",
    "        self.results[\"after_mean_normalisation_run\"] = anlyzr.perform_knn()\n",
    "\n",
    "    def run(self):\n",
    "        self.run_raw()\n",
    "        self.run_after_removing_outliers()\n",
    "        self.run_after_max_normalisation()\n",
    "        self.run_after_mean_normalisation()\n",
    "        return self.results"
   ]
  },
  {
   "cell_type": "code",
   "execution_count": 12,
   "metadata": {},
   "outputs": [
    {
     "data": {
      "text/plain": [
       "{'raw_run': 0.40714285714285714,\n",
       " 'after_removing_outliers_run': 0.5041617122473246,\n",
       " 'after_max_normalisation_run': 0.5862068965517241,\n",
       " 'after_mean_normalisation_run': 0.6016646848989299}"
      ]
     },
     "execution_count": 12,
     "metadata": {},
     "output_type": "execute_result"
    }
   ],
   "source": [
    "Master().run()"
   ]
  },
  {
   "cell_type": "code",
   "execution_count": null,
   "metadata": {},
   "outputs": [],
   "source": [
    "anlyzr = DataAnalyzer()"
   ]
  },
  {
   "cell_type": "code",
   "execution_count": null,
   "metadata": {},
   "outputs": [],
   "source": [
    "display(anlyzr.dataset)"
   ]
  },
  {
   "cell_type": "code",
   "execution_count": null,
   "metadata": {},
   "outputs": [],
   "source": [
    "anlyzr.show_boxplots()"
   ]
  },
  {
   "cell_type": "code",
   "execution_count": null,
   "metadata": {},
   "outputs": [],
   "source": [
    "anlyzr.show_outlier_percs()"
   ]
  },
  {
   "cell_type": "code",
   "execution_count": null,
   "metadata": {},
   "outputs": [],
   "source": [
    "anlyzr.show_histplots()"
   ]
  },
  {
   "cell_type": "code",
   "execution_count": null,
   "metadata": {},
   "outputs": [],
   "source": [
    "anlyzr.show_heat_map()"
   ]
  }
 ],
 "metadata": {
  "kernelspec": {
   "display_name": "assgn_1_env",
   "language": "python",
   "name": "python3"
  },
  "language_info": {
   "codemirror_mode": {
    "name": "ipython",
    "version": 3
   },
   "file_extension": ".py",
   "mimetype": "text/x-python",
   "name": "python",
   "nbconvert_exporter": "python",
   "pygments_lexer": "ipython3",
   "version": "3.10.13"
  },
  "orig_nbformat": 4
 },
 "nbformat": 4,
 "nbformat_minor": 2
}
